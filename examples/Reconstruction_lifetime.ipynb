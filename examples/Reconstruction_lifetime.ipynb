{
 "cells": [
  {
   "cell_type": "code",
   "execution_count": 1,
   "id": "42653c48-fdfb-4e6c-933e-57794cc4926a",
   "metadata": {},
   "outputs": [],
   "source": [
    "import numpy as np\n",
    "import matplotlib.pyplot as plt\n",
    "import os\n",
    "\n",
    "import brighteyes_ism.simulation.PSF_sim as sim\n",
    "import brighteyes_ism.analysis.Graph_lib as gra\n",
    "import brighteyes_ism.dataio.mcs as mcs\n",
    "\n",
    "from s2ism import s2ism as s2\n",
    "import s2ism.psf_estimator as est\n",
    "\n",
    "import brighteyes_flim.flism as flim"
   ]
  },
  {
   "cell_type": "markdown",
   "id": "20e3e4a1-b2b9-4ea2-90c6-efd4e78c6da8",
   "metadata": {},
   "source": [
    "# Data download\n",
    "\n",
    "Experimental dataset can be downloaded from [https://doi.org/10.5281/zenodo.11284051](https://doi.org/10.5281/zenodo.11284051).\n",
    "\n",
    "Here, we download and decompress the data into the Downloas folder."
   ]
  },
  {
   "cell_type": "code",
   "execution_count": 2,
   "id": "75e53b58-08f7-44f7-a154-2f8e6e9753e1",
   "metadata": {},
   "outputs": [],
   "source": [
    "import requests\n",
    "from tqdm import tqdm, trange\n",
    "from pathlib import Path\n",
    "import os\n",
    "import zipfile\n",
    "\n",
    "def download(url, fname):\n",
    "    resp = requests.get(url, stream=True)\n",
    "    total = int(resp.headers.get('content-length', 0))\n",
    "    with open(fname, 'wb') as file, tqdm(\n",
    "            desc=fname,\n",
    "            total=total,\n",
    "            unit='iB',\n",
    "            unit_scale=True,\n",
    "            unit_divisor=1024,\n",
    "    ) as bar:\n",
    "        for data in resp.iter_content(chunk_size=1024):\n",
    "            size = file.write(data)\n",
    "            bar.update(size)\n",
    "            \n",
    "def extract(filename):\n",
    "    dir_name = filename[:-4]\n",
    "    os.mkdir(dir_name)\n",
    "    with zipfile.ZipFile(filename, 'r') as zf:\n",
    "        for member in tqdm(zf.infolist(), desc='Extracting '):\n",
    "            try:\n",
    "                zf.extract(member, dir_name)\n",
    "            except zipfile.error as e:\n",
    "                pass"
   ]
  },
  {
   "cell_type": "code",
   "execution_count": 3,
   "id": "f43bc760-8d78-4fa2-a4e6-9d9f9a83885d",
   "metadata": {},
   "outputs": [],
   "source": [
    "downloads_path = str(Path.home() / 'Downloads')\n",
    "\n",
    "url_data = 'https://zenodo.org/records/11284051/files/h5_files_s2ism.zip'\n",
    "name_data = 'h5_files_s2ism.zip'\n",
    "\n",
    "filename = os.path.join(downloads_path, name_data)"
   ]
  },
  {
   "cell_type": "code",
   "execution_count": 4,
   "id": "3e7636dd-20ab-4e77-afd1-90e5592f0d58",
   "metadata": {},
   "outputs": [
    {
     "name": "stdout",
     "output_type": "stream",
     "text": [
      "File already downloaded.\n"
     ]
    }
   ],
   "source": [
    "if not os.path.isfile(filename):\n",
    "    print('Downloading data:' + filename + '\\n')\n",
    "    download(url_data, filename)\n",
    "else:\n",
    "    print('File already downloaded.')"
   ]
  },
  {
   "cell_type": "code",
   "execution_count": 7,
   "id": "73b6a644-61dc-4cdd-8ac6-4f248e2d5628",
   "metadata": {},
   "outputs": [],
   "source": [
    "dir_name = filename[:-4]\n",
    "\n",
    "if not os.path.exists(dir_name):\n",
    "    print('Extracting compressed data:\\n')\n",
    "    extract(filename)"
   ]
  },
  {
   "cell_type": "markdown",
   "id": "ef23b7ff-a797-4221-b0c5-06831047f83f",
   "metadata": {},
   "source": [
    "# Data loading"
   ]
  },
  {
   "cell_type": "code",
   "execution_count": 9,
   "id": "27d894dc-ff2b-4578-bc69-24dc07e67de9",
   "metadata": {},
   "outputs": [
    {
     "name": "stdout",
     "output_type": "stream",
     "text": [
      "Loaded data: Lamina_tubulin_flim_data-10-04-2024-19-27-47.h5\n"
     ]
    }
   ],
   "source": [
    "file = r'Lamina_tubulin_flim_data-10-04-2024-19-27-47.h5'\n",
    "\n",
    "fullpath = os.path.join(dir_name, file)\n",
    "\n",
    "data, meta = mcs.load(fullpath)\n",
    "\n",
    "print('Loaded data: ' + file)\n",
    "\n",
    "dset = np.squeeze(data)\n",
    "\n",
    "del data\n",
    "\n",
    "data_extra, _ = mcs.load(fullpath, key=\"data_channels_extra\")\n",
    "laser = data_extra[:, :, :, :, :, 1].sum((0, 1, 2, 3)) * 1.\n",
    "laser /= laser.max()"
   ]
  },
  {
   "cell_type": "code",
   "execution_count": null,
   "id": "a6a7d09b-6f76-435b-9232-f3ae85cd3a25",
   "metadata": {},
   "outputs": [],
   "source": [
    "exPar = sim.simSettings()\n",
    "exPar.na = 1.4   # numerical aperture\n",
    "exPar.wl = 488   # wavelength [nm]\n",
    "exPar.gamma = 45  # parameter describing the light polarization\n",
    "exPar.beta = 90  # parameter describing the light polarization\n",
    "exPar.n = 1.5\n",
    "exPar.mask_sampl = 100\n",
    "\n",
    "emPar = exPar.copy()\n",
    "emPar.wl = 520\n",
    "\n",
    "grid = sim.GridParameters()\n",
    "grid.Nz = 2\n",
    "grid.pxsizex = meta.dx*1e3\n",
    "grid.pxsizez = 720\n",
    "grid.pxpitch = 75e3\n",
    "grid.pxdim = 50e3\n",
    "grid.N = 5\n",
    "\n",
    "psf_spatial, _,_ = est.psf_estimator_from_data(dset.sum(-2), exPar, emPar, grid, z_out_of_focus = 300)\n"
   ]
  },
  {
   "cell_type": "code",
   "execution_count": null,
   "id": "77cf4faf-275a-45fd-a226-f0fd6398b4f2",
   "metadata": {},
   "outputs": [],
   "source": [
    "file_irf = 'IRF_for_lamina_tubulin_flim_data-10-04-2024-19-50-34.h5'\n",
    "\n",
    "print(f'Loading: {file}')\n",
    "data, meta = mcs.load(file)\n"
   ]
  },
  {
   "cell_type": "code",
   "execution_count": null,
   "id": "e97ee068-bd71-482e-b369-8ac883d0077b",
   "metadata": {},
   "outputs": [],
   "source": [
    "dset_irf = np.sum( data, axis = (0, 1, 2, 3) ) * 1.\n",
    "dset_irf /= dset_irf.max(-2)"
   ]
  },
  {
   "cell_type": "code",
   "execution_count": null,
   "id": "b75c1a70-5bdf-4ff8-89aa-6f475ff4effa",
   "metadata": {},
   "outputs": [],
   "source": [
    "data_extra_irf, _ = mcs.load(file, key=\"data_channels_extra\")\n",
    "laser_irf = data_extra_irf[:, :, :, :, :, 1].sum((0, 1, 2, 3))\n",
    "laser_irf /= laser_irf.max()\n",
    "\n",
    "plt.figure()\n",
    "plt.plot(data_laser_irf)"
   ]
  },
  {
   "cell_type": "code",
   "execution_count": null,
   "id": "17073077-6d4f-465c-ba8e-c50dd53fa80c",
   "metadata": {},
   "outputs": [],
   "source": [
    "#dt = 0.297619 # dfd bin time, ns\n",
    "dt = data_extra_irf['dt'] # ns\n",
    "time = np.arange(dset.shape[0]) * dt"
   ]
  },
  {
   "cell_type": "code",
   "execution_count": null,
   "id": "cb6c2748-c00e-4b24-a592-9e6afa5ae275",
   "metadata": {},
   "outputs": [],
   "source": [
    "plt.figure()\n",
    "\n",
    "for n in range(dset.shape[-1]):\n",
    "    plt.plot(time, dset[:, n] + n)\n",
    "\n",
    "plt.xlabel('time (ns)')"
   ]
  },
  {
   "cell_type": "code",
   "execution_count": null,
   "id": "858e9fb9-f032-4c83-acc5-f965f451e6d2",
   "metadata": {},
   "outputs": [],
   "source": [
    "def centroid(data):\n",
    "    x = np.arange(data.size)\n",
    "    idx = np.sum(x*data)/data.sum()\n",
    "    return idx\n",
    "\n",
    "def clean_irf(irf, threshold = 0.3, window = 6):\n",
    "    \n",
    "    time = np.arange(irf.size)\n",
    "    \n",
    "    t_irf = np.where(irf>threshold, irf, 0)\n",
    "    \n",
    "    t0 = centroid(t_irf)\n",
    "    \n",
    "    indices = np.argwhere(np.logical_and(time > t0 - window, time < t0 + window))\n",
    "    \n",
    "    final_irf = np.zeros_like(irf)\n",
    "    \n",
    "    final_irf[indices] = irf[indices]\n",
    "    \n",
    "    return final_irf"
   ]
  },
  {
   "cell_type": "code",
   "execution_count": null,
   "id": "0b8d1d6a-2599-4490-a79a-6f11d86cb6de",
   "metadata": {},
   "outputs": [],
   "source": [
    "final_irf = np.empty_like(dset_irf)\n",
    "\n",
    "for n in range(dset_irf.shape[-1]):\n",
    "\n",
    "    irf = dset_irf[:, n]\n",
    " \n",
    "    final_irf[:, n] = clean_irf(irf, threshold = 0.3, window = 2/dt)\n",
    "    \n",
    "    plt.figure()\n",
    "    plt.plot(time, irf)\n",
    "    plt.plot(time, final_irf[:, n])"
   ]
  },
  {
   "cell_type": "code",
   "execution_count": null,
   "id": "70467c94-9ed5-49ae-bca3-f8029cd52e03",
   "metadata": {},
   "outputs": [],
   "source": [
    "psf_irf = est.combine_psf_irf(psf_spatial, final_irf)"
   ]
  },
  {
   "cell_type": "code",
   "execution_count": null,
   "id": "0676915f-3f47-43b9-8a58-33359ef8d798",
   "metadata": {},
   "outputs": [],
   "source": [
    "s2_rec = s2.batch_reconstruction(dset, psf_irf, batch_size = [301, 301], overlap = 40, max_iter = 5, process='gpu')\n"
   ]
  }
 ],
 "metadata": {
  "kernelspec": {
   "display_name": "Python 3 (ipykernel)",
   "language": "python",
   "name": "python3"
  },
  "language_info": {
   "codemirror_mode": {
    "name": "ipython",
    "version": 3
   },
   "file_extension": ".py",
   "mimetype": "text/x-python",
   "name": "python",
   "nbconvert_exporter": "python",
   "pygments_lexer": "ipython3",
   "version": "3.9.19"
  }
 },
 "nbformat": 4,
 "nbformat_minor": 5
}
