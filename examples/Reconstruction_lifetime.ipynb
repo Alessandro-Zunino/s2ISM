{
 "cells": [
  {
   "cell_type": "code",
   "execution_count": null,
   "id": "42653c48-fdfb-4e6c-933e-57794cc4926a",
   "metadata": {},
   "outputs": [],
   "source": [
    "import numpy as np\n",
    "import matplotlib.pyplot as plt\n",
    "import os\n",
    "\n",
    "import brighteyes_ism.simulation.PSF_sim as sim\n",
    "import brighteyes_ism.analysis.Graph_lib as gra\n",
    "import brighteyes_ism.dataio.mcs as mcs\n",
    "\n",
    "from s2ism import s2ism as s2\n",
    "import s2ism.psf_estimator as est"
   ]
  },
  {
   "cell_type": "markdown",
   "id": "c281479f-8e27-4dbd-af23-b1e5f0d966a0",
   "metadata": {},
   "source": [
    "For this notebook, an additional package is required for FLIM data analysis and visualization.\n",
    "\n",
    "It can be installed from the following GitHub repository:\n",
    "https://github.com/VicidominiLab/BrightEyes-Flim"
   ]
  },
  {
   "cell_type": "code",
   "execution_count": null,
   "id": "5807ff63-db86-4f64-ae6b-e4292cad9ea2",
   "metadata": {},
   "outputs": [],
   "source": [
    "import brighteyes_flim.flism as flim"
   ]
  },
  {
   "cell_type": "markdown",
   "id": "20e3e4a1-b2b9-4ea2-90c6-efd4e78c6da8",
   "metadata": {},
   "source": [
    "# Data download\n",
    "\n",
    "Experimental dataset can be downloaded from [https://doi.org/10.5281/zenodo.11284051](https://doi.org/10.5281/zenodo.11284051).\n",
    "\n",
    "Here, we download and decompress the data into the Downloas folder."
   ]
  },
  {
   "cell_type": "code",
   "execution_count": null,
   "id": "75e53b58-08f7-44f7-a154-2f8e6e9753e1",
   "metadata": {},
   "outputs": [],
   "source": [
    "import requests\n",
    "from tqdm import tqdm, trange\n",
    "from pathlib import Path\n",
    "import os\n",
    "import zipfile\n",
    "\n",
    "def download(url, fname):\n",
    "    resp = requests.get(url, stream=True)\n",
    "    total = int(resp.headers.get('content-length', 0))\n",
    "    with open(fname, 'wb') as file, tqdm(\n",
    "            desc=fname,\n",
    "            total=total,\n",
    "            unit='iB',\n",
    "            unit_scale=True,\n",
    "            unit_divisor=1024,\n",
    "    ) as bar:\n",
    "        for data in resp.iter_content(chunk_size=1024):\n",
    "            size = file.write(data)\n",
    "            bar.update(size)\n",
    "            \n",
    "def extract(filename):\n",
    "    dir_name = filename[:-4]\n",
    "    os.mkdir(dir_name)\n",
    "    with zipfile.ZipFile(filename, 'r') as zf:\n",
    "        for member in tqdm(zf.infolist(), desc='Extracting '):\n",
    "            try:\n",
    "                zf.extract(member, dir_name)\n",
    "            except zipfile.error as e:\n",
    "                pass"
   ]
  },
  {
   "cell_type": "code",
   "execution_count": null,
   "id": "f43bc760-8d78-4fa2-a4e6-9d9f9a83885d",
   "metadata": {},
   "outputs": [],
   "source": [
    "downloads_path = str(Path.home() / 'Downloads')\n",
    "\n",
    "url_data = 'https://zenodo.org/records/11284051/files/h5_files_s2ism.zip'\n",
    "name_data = 'h5_files_s2ism.zip'\n",
    "\n",
    "filename = os.path.join(downloads_path, name_data)"
   ]
  },
  {
   "cell_type": "code",
   "execution_count": null,
   "id": "3e7636dd-20ab-4e77-afd1-90e5592f0d58",
   "metadata": {},
   "outputs": [],
   "source": [
    "if not os.path.isfile(filename):\n",
    "    print('Downloading data:' + filename + '\\n')\n",
    "    download(url_data, filename)\n",
    "else:\n",
    "    print('File already downloaded.')"
   ]
  },
  {
   "cell_type": "code",
   "execution_count": null,
   "id": "73b6a644-61dc-4cdd-8ac6-4f248e2d5628",
   "metadata": {},
   "outputs": [],
   "source": [
    "dir_name = filename[:-4]\n",
    "\n",
    "if not os.path.exists(dir_name):\n",
    "    print('Extracting compressed data:\\n')\n",
    "    extract(filename)"
   ]
  },
  {
   "cell_type": "markdown",
   "id": "ef23b7ff-a797-4221-b0c5-06831047f83f",
   "metadata": {},
   "source": [
    "# Data loading"
   ]
  },
  {
   "cell_type": "code",
   "execution_count": null,
   "id": "27d894dc-ff2b-4578-bc69-24dc07e67de9",
   "metadata": {},
   "outputs": [],
   "source": [
    "file = r'Lamina_tubulin_flim_data-10-04-2024-19-27-47.h5'\n",
    "\n",
    "fullpath = os.path.join(dir_name, file)\n",
    "\n",
    "data, meta = mcs.load(fullpath)\n",
    "\n",
    "print('Loaded data: ' + file)\n",
    "\n",
    "dset = np.squeeze(data)\n",
    "\n",
    "del data"
   ]
  },
  {
   "cell_type": "code",
   "execution_count": null,
   "id": "af530fb4-511b-4861-beaf-e428f923c3cd",
   "metadata": {},
   "outputs": [],
   "source": [
    "data_extra, _ = mcs.load(fullpath, key=\"data_channels_extra\")\n",
    "laser = data_extra[:, :, :, :, :, 1].sum((0, 1, 2, 3)) * 1.\n",
    "laser /= laser.max()"
   ]
  },
  {
   "cell_type": "markdown",
   "id": "2dbee3ab-5af8-49ce-b365-36902af7f19e",
   "metadata": {},
   "source": [
    "# IRF Loading"
   ]
  },
  {
   "cell_type": "code",
   "execution_count": null,
   "id": "77cf4faf-275a-45fd-a226-f0fd6398b4f2",
   "metadata": {},
   "outputs": [],
   "source": [
    "file_irf = r'IRF_for_lamina_tubulin_flim_data-10-04-2024-19-50-34.h5'\n",
    "fullpath_irf = os.path.join(dir_name, file_irf)\n",
    "\n",
    "data_irf, meta_irf = mcs.load(fullpath_irf)\n",
    "\n",
    "print(f'Loaded IRF data: {file_irf}')"
   ]
  },
  {
   "cell_type": "markdown",
   "id": "e62b7cdb-8efa-4408-a28a-e7a250275eae",
   "metadata": {},
   "source": [
    "We acquired the IRFs of our microscope measuring the scattering responde of a gold nanoparticle.\n",
    "Since the spatial structure is of no interest, we sum over all the non relevant dimensions. The result is 2D: time and SPAD channel."
   ]
  },
  {
   "cell_type": "code",
   "execution_count": null,
   "id": "e97ee068-bd71-482e-b369-8ac883d0077b",
   "metadata": {},
   "outputs": [],
   "source": [
    "dset_irf = np.sum(data_irf, axis = (0, 1, 2, 3) ) * 1.\n",
    "dset_irf /= dset_irf.max(-2)\n",
    "\n",
    "del data_irf"
   ]
  },
  {
   "cell_type": "code",
   "execution_count": null,
   "id": "b75c1a70-5bdf-4ff8-89aa-6f475ff4effa",
   "metadata": {},
   "outputs": [],
   "source": [
    "data_extra_irf, _ = mcs.load(fullpath_irf, key=\"data_channels_extra\")\n",
    "laser_irf = data_extra_irf[:, :, :, :, :, 1].sum((0, 1, 2, 3)) * 1.\n",
    "laser_irf /= laser_irf.max()"
   ]
  },
  {
   "cell_type": "markdown",
   "id": "03596933-673b-4c34-bb80-49d545b3aebc",
   "metadata": {},
   "source": [
    "The data and IRF measurements have been acquired separately. Therefore, they are not necessarily synchronized in time.\n",
    "\n",
    "We can use the laser trigger to move the two datasets to the same temporal reference frame."
   ]
  },
  {
   "cell_type": "code",
   "execution_count": null,
   "id": "74eaf2c4-48c0-4b18-9c0a-3e8fb6274a65",
   "metadata": {},
   "outputs": [],
   "source": [
    "plt.figure()\n",
    "plt.plot(laser, label = 'Laser trigger - data')\n",
    "plt.plot(laser_irf, label = 'Laser trigger - IRF')\n",
    "plt.legend()"
   ]
  },
  {
   "cell_type": "code",
   "execution_count": null,
   "id": "17073077-6d4f-465c-ba8e-c50dd53fa80c",
   "metadata": {},
   "outputs": [],
   "source": [
    "dt = 0.297619 # DFD bin time, ns\n",
    "dfd_freq = 1e3/(meta.nbin*dt) # MHz\n",
    "\n",
    "print(f'Excitation frequency = {dfd_freq:.2f} MHz')\n",
    "\n",
    "time = np.arange(dset_irf.shape[0]) * dt"
   ]
  },
  {
   "cell_type": "code",
   "execution_count": null,
   "id": "cb6c2748-c00e-4b24-a592-9e6afa5ae275",
   "metadata": {},
   "outputs": [],
   "source": [
    "plt.figure(figsize = (5, 10))\n",
    "\n",
    "for n in range(dset.shape[-1]):\n",
    "    plt.plot(time, 0.8*dset_irf[:, n] + n)\n",
    "    \n",
    "plt.yticks(np.arange(25))\n",
    "plt.xlabel('time (ns)')\n",
    "plt.ylabel('channel')\n",
    "plt.title('Impulse Response Functions')"
   ]
  },
  {
   "cell_type": "markdown",
   "id": "c982687e-1ac6-4ab3-9cda-c0133832771d",
   "metadata": {},
   "source": [
    "We experimentally acquired the IRFs without spectral filters, because we worked in the Rayleigh scattering regime. Therefore, we need to remove spurious reflections from the data to produce close-to-ideal IRFs. We measure the center-of-mass of each IRF and we apply a window (2 ns) around it. The signal outside the windows is clipped to zero."
   ]
  },
  {
   "cell_type": "code",
   "execution_count": null,
   "id": "858e9fb9-f032-4c83-acc5-f965f451e6d2",
   "metadata": {},
   "outputs": [],
   "source": [
    "def centroid(data):\n",
    "    x = np.arange(data.size)\n",
    "    idx = np.sum(x*data)/data.sum()\n",
    "    return idx\n",
    "\n",
    "def clean_irf(irf, threshold = 0.3, window = 6):\n",
    "    \n",
    "    time = np.arange(irf.size)\n",
    "    \n",
    "    t_irf = np.where(irf>threshold, irf, 0)\n",
    "    \n",
    "    t0 = centroid(t_irf)\n",
    "    \n",
    "    indices = np.argwhere(np.logical_and(time > t0 - window, time < t0 + window))\n",
    "    \n",
    "    final_irf = np.zeros_like(irf)\n",
    "    \n",
    "    final_irf[indices] = irf[indices]\n",
    "    \n",
    "    return final_irf"
   ]
  },
  {
   "cell_type": "code",
   "execution_count": null,
   "id": "0b8d1d6a-2599-4490-a79a-6f11d86cb6de",
   "metadata": {},
   "outputs": [],
   "source": [
    "final_irf = np.empty_like(dset_irf)\n",
    "\n",
    "fig, ax = plt.subplots(5,5, figsize = (10,10), sharex = True, sharey = True)\n",
    "\n",
    "for n in range(dset_irf.shape[-1]):\n",
    "\n",
    "    final_irf[:, n] = clean_irf(dset_irf[:, n], threshold = 0.3, window = 2/dt)\n",
    "    \n",
    "    idx = np.unravel_index(n, (5,5))\n",
    "    \n",
    "    l1, = ax[idx].semilogy(time, dset_irf[:, n])\n",
    "    l2, = ax[idx].semilogy(time, final_irf[:, n])\n",
    "    \n",
    "    ax[idx].text(0.5, 0.8,f'channel {n}')\n",
    "    \n",
    "    if idx[0] == 4:\n",
    "        ax[idx].set_xlabel('time (ns)')\n",
    "    if idx[1] == 0:\n",
    "        ax[idx].set_ylabel('Intensity')\n",
    "\n",
    "fig.legend((l1, l2), ('Raw', 'Clean'), bbox_to_anchor=(1.1, 0.99))\n",
    "fig.tight_layout()"
   ]
  },
  {
   "cell_type": "markdown",
   "id": "e8b33f6a-f5fd-4097-9654-0f280d986db6",
   "metadata": {},
   "source": [
    "# FLISM image reconstruction"
   ]
  },
  {
   "cell_type": "code",
   "execution_count": null,
   "id": "45d8c403-14b5-4f5b-9aef-f8db1f889f6d",
   "metadata": {},
   "outputs": [],
   "source": [
    "exPar = sim.simSettings()\n",
    "exPar.na = 1.4   # numerical aperture\n",
    "exPar.wl = 488   # excitation wavelength [nm]\n",
    "exPar.gamma = 45  # parameter describing the light polarization\n",
    "exPar.beta = 90  # parameter describing the light polarization\n",
    "exPar.n = 1.5 # refractive index\n",
    "exPar.mask_sampl = 100 # pupile plane sample points\n",
    "\n",
    "emPar = exPar.copy()\n",
    "emPar.wl = 520 # emission wavelength [nm]\n",
    "\n",
    "grid = sim.GridParameters()\n",
    "grid.Nz = 2 # number of axial planes\n",
    "grid.pxsizex = meta.dx*1e3 # pixel size [nm]\n",
    "grid.pxsizez = 720 # axial spacing [nm]\n",
    "grid.pxpitch = 75e3 # pitch of the detector array [nm]\n",
    "grid.pxdim = 50e3 # size of the pixels of the detector array [nm]\n",
    "grid.N = 5 # numer of pixels per axis of the array\n",
    "\n",
    "psf_spatial, _,_ = est.psf_estimator_from_data(dset.sum(-2), exPar, emPar, grid, z_out_of_focus = grid.pxsizez)"
   ]
  },
  {
   "cell_type": "code",
   "execution_count": null,
   "id": "a5d97a10-0857-4773-ab48-4826471df9c1",
   "metadata": {},
   "outputs": [],
   "source": [
    "print('Out-of-focus PSFs')\n",
    "fig_1 = gra.ShowDataset(psf_spatial[0])"
   ]
  },
  {
   "cell_type": "code",
   "execution_count": null,
   "id": "ace507e0-ea25-40e7-9ab7-c8117b679352",
   "metadata": {},
   "outputs": [],
   "source": [
    "print('In-focus PSFs')\n",
    "fig_2 = gra.ShowDataset(psf_spatial[1])"
   ]
  },
  {
   "cell_type": "code",
   "execution_count": null,
   "id": "70467c94-9ed5-49ae-bca3-f8029cd52e03",
   "metadata": {},
   "outputs": [],
   "source": [
    "psf_irf = est.combine_psf_irf(psf_spatial, final_irf)"
   ]
  },
  {
   "cell_type": "code",
   "execution_count": null,
   "id": "0676915f-3f47-43b9-8a58-33359ef8d798",
   "metadata": {},
   "outputs": [],
   "source": [
    "s2_rec = s2.batch_reconstruction(dset, psf_irf, batch_size = [301, 301], overlap = 40, max_iter = 5, process='cpu')"
   ]
  },
  {
   "cell_type": "code",
   "execution_count": null,
   "id": "f3031ac0-e127-4c20-a0da-5306f5840897",
   "metadata": {},
   "outputs": [],
   "source": [
    "s2_flism = s2_rec[1]\n",
    "dset_sum = dset.sum(-1)\n",
    "\n",
    "intensity_focus = s2_flism.sum(-1)\n",
    "intensity_sum = dset_sum.sum(-1)\n",
    "\n",
    "fig, ax = plt.subplots(1,2, figsize = (15,5))\n",
    "\n",
    "gra.ShowImg(intensity_sum, meta.dx, meta.pxdwelltime, fig = fig, ax = ax[0])\n",
    "ax[0].set_title('Confocal')\n",
    "gra.ShowImg(intensity_focus, meta.dx, meta.pxdwelltime, fig = fig, ax = ax[1])\n",
    "ax[1].set_title(r's$^2$ISM')"
   ]
  },
  {
   "cell_type": "markdown",
   "id": "6da51fa6-d837-47f8-97e1-d7bd63ed4007",
   "metadata": {},
   "source": [
    "# Phasor analysis"
   ]
  },
  {
   "cell_type": "markdown",
   "id": "227699f8-ccfc-4d39-ac2c-4473e56adbda",
   "metadata": {},
   "source": [
    "We define the equivalent IRF of the confocal system as the sum of the IRFs weighted by the fingerprint."
   ]
  },
  {
   "cell_type": "code",
   "execution_count": null,
   "id": "fe4c82d1-5651-46a3-bd4b-e56ae6038ac6",
   "metadata": {},
   "outputs": [],
   "source": [
    "fingerprint = dset.sum( (0,1,2) )\n",
    "irf_sum = np.einsum('ij,j', dset_irf, fingerprint)\n",
    "irf_sum /= irf_sum.max()"
   ]
  },
  {
   "cell_type": "code",
   "execution_count": null,
   "id": "2e2cca56-95a1-4f84-b701-580d063e3f99",
   "metadata": {},
   "outputs": [],
   "source": [
    "phasor_sum = flim.phasor(dset_sum)\n",
    "phasor_irf_sum = flim.phasor(irf_sum)\n",
    "\n",
    "phasor_f = flim.phasor(s2_flism)"
   ]
  },
  {
   "cell_type": "markdown",
   "id": "8806ec78-0389-4230-bcf1-8ab1b0f46031",
   "metadata": {},
   "source": [
    "We correct phasor with respect to laser reference"
   ]
  },
  {
   "cell_type": "code",
   "execution_count": null,
   "id": "45bf18d8-6215-47be-a412-f0f3be23afc2",
   "metadata": {},
   "outputs": [],
   "source": [
    "correction_phasor = flim.correction_phasor(laser, laser_irf)\n",
    "\n",
    "phasor_sum = phasor_sum * correction_phasor / phasor_irf_sum\n",
    "\n",
    "phasor_f = -phasor_f * correction_phasor"
   ]
  },
  {
   "cell_type": "code",
   "execution_count": null,
   "id": "3c0a667c-06ed-48b1-b82d-19e7036df505",
   "metadata": {},
   "outputs": [],
   "source": [
    "lifetime_sum = flim.calculate_tau_m(phasor_sum, dfd_freq = dfd_freq) * 1e3 # ns\n",
    "\n",
    "lifetime_f = flim.calculate_tau_m(phasor_f, dfd_freq = dfd_freq) * 1e3 # ns"
   ]
  },
  {
   "cell_type": "code",
   "execution_count": null,
   "id": "46f2ecfe-560e-46ef-8ed6-1f83a14d7a16",
   "metadata": {},
   "outputs": [],
   "source": [
    "threshold = 0.05\n",
    "\n",
    "thresholded_phasor_sum = flim.threshold_phasor(intensity_sum, phasor_sum, threshold)\n",
    "\n",
    "thresholded_phasor_f = flim.threshold_phasor(intensity_focus, phasor_f, threshold)\n",
    "\n",
    "thresholded_tau_sum = flim.calculate_tau_m(thresholded_phasor_sum, dfd_freq=dfd_freq) * 1e3\n",
    "thresholded_tau_f = flim.calculate_tau_m(thresholded_phasor_f, dfd_freq=dfd_freq) * 1e3\n",
    "\n",
    "thresholded_tau_sum = thresholded_tau_sum[np.isfinite(thresholded_tau_sum)]\n",
    "thresholded_tau_f = thresholded_tau_f[np.isfinite(thresholded_tau_f)]"
   ]
  },
  {
   "cell_type": "code",
   "execution_count": null,
   "id": "d0474450-4070-4e80-8414-f92879a53a88",
   "metadata": {},
   "outputs": [],
   "source": [
    "from matplotlib.ticker import ScalarFormatter\n",
    "\n",
    "crop = 30\n",
    "cmap = 'turbo'\n",
    "\n",
    "upper_bound = 4.5\n",
    "lower_bound = 2.5\n",
    "\n",
    "bin_plot = 500\n",
    "\n",
    "fig = plt.figure(figsize = (18, 12))\n",
    "gs = fig.add_gridspec(4, 4)\n",
    "\n",
    "ax1 = fig.add_subplot(gs[0:2, 0:2])\n",
    "ax2 = fig.add_subplot(gs[2:4, 0:2])\n",
    "\n",
    "gra.show_flim(intensity_sum[crop:-crop, crop:-crop], lifetime_sum[crop:-crop, crop:-crop], meta.dx, meta.pxdwelltime, lifetime_bounds = [lower_bound,upper_bound], fig = fig, ax = ax1, colormap=cmap)\n",
    "gra.show_flim(intensity_focus[crop:-crop, crop:-crop], lifetime_f[crop:-crop, crop:-crop], meta.dx, meta.pxdwelltime, lifetime_bounds = [lower_bound,upper_bound], fig = fig, ax = ax2, colormap=cmap)\n",
    "\n",
    "ax3 = fig.add_subplot(gs[0, 2:3])\n",
    "ax4 = fig.add_subplot(gs[1, 2:3])\n",
    "\n",
    "flim.plot_phasor(thresholded_phasor_sum, quadrant='first', bins_2dplot = bin_plot, cmap='viridis', dfd_freq = dfd_freq*1e6,  fig = fig, ax = ax3)\n",
    "ax4.hist(thresholded_tau_sum, bins = 500, range=(lower_bound, upper_bound), histtype='step', fill=True, fc='yellowgreen', edgecolor='darkgreen', linewidth=1.5)\n",
    "ax4.yaxis.tick_right()\n",
    "ax4.yaxis.set_label_position(\"right\")\n",
    "ax4.set_xlabel('tau (ns)')\n",
    "ax4.set_ylabel('Pixel counts')\n",
    "sf = ScalarFormatter(useMathText=True)\n",
    "sf.set_powerlimits((3,3))\n",
    "ax4.yaxis.set_major_formatter(sf)\n",
    "\n",
    "ax5 = fig.add_subplot(gs[2, 2:3])\n",
    "ax6 = fig.add_subplot(gs[3, 2:3])\n",
    "\n",
    "flim.plot_phasor(thresholded_phasor_f, quadrant='first', bins_2dplot = bin_plot, cmap='viridis',  dfd_freq = dfd_freq*1e6,  fig = fig, ax = ax5)\n",
    "ax6.hist(thresholded_tau_f, bins = 500, range=(lower_bound, upper_bound), histtype='step', fill=True, fc='yellowgreen', edgecolor='darkgreen', linewidth=1.5)\n",
    "ax6.yaxis.tick_right()\n",
    "ax6.yaxis.set_label_position(\"right\")\n",
    "ax6.set_xlabel('tau (ns)')\n",
    "ax6.set_ylabel('Pixel counts')\n",
    "ax6.yaxis.set_major_formatter(sf)\n",
    "\n",
    "fig.tight_layout()"
   ]
  }
 ],
 "metadata": {
  "kernelspec": {
   "display_name": "Python 3 (ipykernel)",
   "language": "python",
   "name": "python3"
  },
  "language_info": {
   "codemirror_mode": {
    "name": "ipython",
    "version": 3
   },
   "file_extension": ".py",
   "mimetype": "text/x-python",
   "name": "python",
   "nbconvert_exporter": "python",
   "pygments_lexer": "ipython3",
   "version": "3.10.2"
  }
 },
 "nbformat": 4,
 "nbformat_minor": 5
}
