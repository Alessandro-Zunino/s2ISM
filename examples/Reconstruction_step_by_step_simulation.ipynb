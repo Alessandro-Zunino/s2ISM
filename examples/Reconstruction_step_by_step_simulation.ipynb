{
 "cells": [
  {
   "cell_type": "code",
   "metadata": {
    "tags": [],
    "ExecuteTime": {
     "end_time": "2024-06-18T09:10:25.088954300Z",
     "start_time": "2024-06-18T09:10:24.893399200Z"
    }
   },
   "source": [
    "import numpy as np\n",
    "import  matplotlib.pyplot as plt\n",
    "from scipy.signal import convolve\n",
    "\n",
    "import brighteyes_ism.analysis.Graph_lib as gra   #library dedicated to data plots\n",
    "import brighteyes_ism.analysis.Tools_lib as tools  #library dedicated to data analysis tools\n",
    "import brighteyes_ism.simulation.Tubulin_sim as st   #library for phantom cell simulation\n",
    "import brighteyes_ism.simulation.PSF_sim as psf   #library for PSFs simulation\n",
    "\n",
    "from s2ism import psf_estimator as est    # import library to simulate proper PSFs\n",
    "from s2ism import s2ism as s2       #library containing the core functions of the algorithm\n"
   ],
   "outputs": [
    {
     "ename": "ImportError",
     "evalue": "cannot import name '_c_internal_utils' from partially initialized module 'matplotlib' (most likely due to a circular import) (C:\\Users\\ggarre\\AppData\\Local\\anaconda3\\envs\\s2ism\\lib\\site-packages\\matplotlib\\__init__.py)",
     "output_type": "error",
     "traceback": [
      "\u001B[1;31m---------------------------------------------------------------------------\u001B[0m",
      "\u001B[1;31mImportError\u001B[0m                               Traceback (most recent call last)",
      "Cell \u001B[1;32mIn[8], line 2\u001B[0m\n\u001B[0;32m      1\u001B[0m \u001B[38;5;28;01mimport\u001B[39;00m \u001B[38;5;21;01mnumpy\u001B[39;00m \u001B[38;5;28;01mas\u001B[39;00m \u001B[38;5;21;01mnp\u001B[39;00m\n\u001B[1;32m----> 2\u001B[0m \u001B[38;5;28;01mimport\u001B[39;00m  \u001B[38;5;21;01mmatplotlib\u001B[39;00m\u001B[38;5;21;01m.\u001B[39;00m\u001B[38;5;21;01mpyplot\u001B[39;00m \u001B[38;5;28;01mas\u001B[39;00m \u001B[38;5;21;01mplt\u001B[39;00m\n\u001B[0;32m      3\u001B[0m \u001B[38;5;28;01mfrom\u001B[39;00m \u001B[38;5;21;01mscipy\u001B[39;00m\u001B[38;5;21;01m.\u001B[39;00m\u001B[38;5;21;01msignal\u001B[39;00m \u001B[38;5;28;01mimport\u001B[39;00m convolve\n\u001B[0;32m      5\u001B[0m \u001B[38;5;28;01mimport\u001B[39;00m \u001B[38;5;21;01mbrighteyes_ism\u001B[39;00m\u001B[38;5;21;01m.\u001B[39;00m\u001B[38;5;21;01manalysis\u001B[39;00m\u001B[38;5;21;01m.\u001B[39;00m\u001B[38;5;21;01mGraph_lib\u001B[39;00m \u001B[38;5;28;01mas\u001B[39;00m \u001B[38;5;21;01mgra\u001B[39;00m   \u001B[38;5;66;03m#library dedicated to data plots\u001B[39;00m\n",
      "File \u001B[1;32m~\\AppData\\Local\\anaconda3\\envs\\s2ism\\lib\\site-packages\\matplotlib\\__init__.py:172\u001B[0m\n\u001B[0;32m    168\u001B[0m \u001B[38;5;28;01mfrom\u001B[39;00m \u001B[38;5;21;01mpackaging\u001B[39;00m\u001B[38;5;21;01m.\u001B[39;00m\u001B[38;5;21;01mversion\u001B[39;00m \u001B[38;5;28;01mimport\u001B[39;00m parse \u001B[38;5;28;01mas\u001B[39;00m parse_version\n\u001B[0;32m    170\u001B[0m \u001B[38;5;66;03m# cbook must import matplotlib only within function\u001B[39;00m\n\u001B[0;32m    171\u001B[0m \u001B[38;5;66;03m# definitions, so it is safe to import from it here.\u001B[39;00m\n\u001B[1;32m--> 172\u001B[0m \u001B[38;5;28;01mfrom\u001B[39;00m \u001B[38;5;21;01m.\u001B[39;00m \u001B[38;5;28;01mimport\u001B[39;00m _api, _version, cbook, _docstring, rcsetup\n\u001B[0;32m    173\u001B[0m \u001B[38;5;28;01mfrom\u001B[39;00m \u001B[38;5;21;01mmatplotlib\u001B[39;00m\u001B[38;5;21;01m.\u001B[39;00m\u001B[38;5;21;01mcbook\u001B[39;00m \u001B[38;5;28;01mimport\u001B[39;00m sanitize_sequence\n\u001B[0;32m    174\u001B[0m \u001B[38;5;28;01mfrom\u001B[39;00m \u001B[38;5;21;01mmatplotlib\u001B[39;00m\u001B[38;5;21;01m.\u001B[39;00m\u001B[38;5;21;01m_api\u001B[39;00m \u001B[38;5;28;01mimport\u001B[39;00m MatplotlibDeprecationWarning\n",
      "File \u001B[1;32m~\\AppData\\Local\\anaconda3\\envs\\s2ism\\lib\\site-packages\\matplotlib\\cbook.py:32\u001B[0m\n\u001B[0;32m     29\u001B[0m     \u001B[38;5;28;01mfrom\u001B[39;00m \u001B[38;5;21;01mnumpy\u001B[39;00m \u001B[38;5;28;01mimport\u001B[39;00m VisibleDeprecationWarning\n\u001B[0;32m     31\u001B[0m \u001B[38;5;28;01mimport\u001B[39;00m \u001B[38;5;21;01mmatplotlib\u001B[39;00m\n\u001B[1;32m---> 32\u001B[0m \u001B[38;5;28;01mfrom\u001B[39;00m \u001B[38;5;21;01mmatplotlib\u001B[39;00m \u001B[38;5;28;01mimport\u001B[39;00m _api, _c_internal_utils\n\u001B[0;32m     35\u001B[0m \u001B[38;5;28;01mdef\u001B[39;00m \u001B[38;5;21m_get_running_interactive_framework\u001B[39m():\n\u001B[0;32m     36\u001B[0m \u001B[38;5;250m    \u001B[39m\u001B[38;5;124;03m\"\"\"\u001B[39;00m\n\u001B[0;32m     37\u001B[0m \u001B[38;5;124;03m    Return the interactive framework whose event loop is currently running, if\u001B[39;00m\n\u001B[0;32m     38\u001B[0m \u001B[38;5;124;03m    any, or \"headless\" if no event loop can be started, or None.\u001B[39;00m\n\u001B[1;32m   (...)\u001B[0m\n\u001B[0;32m     44\u001B[0m \u001B[38;5;124;03m        \"macosx\", \"headless\", ``None``.\u001B[39;00m\n\u001B[0;32m     45\u001B[0m \u001B[38;5;124;03m    \"\"\"\u001B[39;00m\n",
      "\u001B[1;31mImportError\u001B[0m: cannot import name '_c_internal_utils' from partially initialized module 'matplotlib' (most likely due to a circular import) (C:\\Users\\ggarre\\AppData\\Local\\anaconda3\\envs\\s2ism\\lib\\site-packages\\matplotlib\\__init__.py)"
     ]
    }
   ],
   "execution_count": 8
  },
  {
   "cell_type": "markdown",
   "metadata": {},
   "source": [
    "# Phantom ground truth creation\n",
    "We simulate some filaments to use as a ground truth:"
   ]
  },
  {
   "cell_type": "code",
   "metadata": {
    "tags": []
   },
   "source": [
    "Nx = 201\n",
    "Nz=2\n",
    "pxsizex = 40\n",
    "\n",
    "tubulin_planar = st.tubSettings()\n",
    "tubulin_planar.xy_pixel_size = pxsizex\n",
    "tubulin_planar.xy_dimension = Nx\n",
    "tubulin_planar.xz_dimension = 1\n",
    "tubulin_planar.z_pixel =  1\n",
    "tubulin_planar.n_filament = 10\n",
    "tubulin_planar.radius_filament = 80\n",
    "tubulin_planar.intensity_filament = [0.6, 1]\n",
    "\n",
    "phTub=np.zeros([Nz,Nx,Nx])\n",
    "\n",
    "for i in range(Nz):\n",
    "        phTub_planar= st.functionPhTub(tubulin_planar)\n",
    "        phTub_planar = np.swapaxes(phTub_planar, 2, 0)\n",
    "        phTub[i,:,:] = phTub_planar*(np.power(3,np.abs(i)))\n",
    "\n",
    "\n",
    "phantom = gra.ShowImg(phTub.sum(axis=0), pxsize_x=pxsizex*10e-3,cmap='magma')"
   ],
   "outputs": [],
   "execution_count": null
  },
  {
   "cell_type": "markdown",
   "metadata": {},
   "source": [
    "# PSFs simulation\n",
    "We define the parameters of the microscope as attributes of the following objects:"
   ]
  },
  {
   "cell_type": "code",
   "metadata": {
    "tags": []
   },
   "source": [
    "exPar = psf.simSettings()\n",
    "exPar.na = 1.4   # numerical aperture\n",
    "exPar.wl = 640   # excitation wavelength [nm]\n",
    "exPar.gamma = 45 # parameter describing the light polarization\n",
    "exPar.beta = 90  # parameter describing the light polarization\n",
    "exPar.n = 1.5    #refractive index of the objective medium\n",
    "exPar.mask_sampl = 50  #sampling points of the phase mask in simulation\n",
    "\n",
    "emPar = exPar.copy()\n",
    "emPar.wl = 660 # emission wavelength [nm]"
   ],
   "outputs": [],
   "execution_count": null
  },
  {
   "metadata": {},
   "cell_type": "markdown",
   "source": [
    "We calculate the optimal out-of-focus position maximizing the discrepancy of the in-focus PSFs."
   ]
  },
  {
   "metadata": {},
   "cell_type": "code",
   "source": [
    "optimal_bkg_plane,_ = est.find_out_of_focus_from_param(pxsizex, exPar, emPar, mode = 'Pearson', stack = 'positive', graph = True)\n",
    "\n",
    "print(f'Optimal out-of-focus position = {optimal_bkg_plane} nm')"
   ],
   "outputs": [],
   "execution_count": null
  },
  {
   "cell_type": "markdown",
   "metadata": {},
   "source": [
    "To optimize the computation time, we set the optimal size of the simulation box with the function _psf_width_."
   ]
  },
  {
   "cell_type": "code",
   "metadata": {},
   "source": [
    "gridPar = psf.GridParameters()\n",
    "gridPar.Nz = Nz\n",
    "gridPar.pxsizex = pxsizex\n",
    "gridPar.pxsizez = optimal_bkg_plane\n",
    "gridPar.Nx = est.psf_width(gridPar.pxsizex, gridPar.pxsizez, gridPar.Nz, exPar, gridPar.spad_size())\n",
    "\n",
    "print(f'Number of pixels in simulation = {gridPar.Nx:.2f}')"
   ],
   "outputs": [],
   "execution_count": null
  },
  {
   "cell_type": "markdown",
   "metadata": {},
   "source": [
    "We simulate the ISM dataset of PSFs at the required planes using the parameters found before:"
   ]
  },
  {
   "cell_type": "code",
   "metadata": {
    "tags": []
   },
   "source": [
    "Psf, detPsf, exPsf = psf.SPAD_PSF_3D(gridPar, exPar, emPar, stack='positive')"
   ],
   "outputs": [],
   "execution_count": null
  },
  {
   "cell_type": "markdown",
   "metadata": {},
   "source": [
    "We show the in-focus PSF dataset:"
   ]
  },
  {
   "cell_type": "code",
   "metadata": {
    "tags": []
   },
   "source": [
    "a = gra.ShowDataset(Psf[0], cmap ='magma')"
   ],
   "outputs": [],
   "execution_count": null
  },
  {
   "metadata": {},
   "cell_type": "markdown",
   "source": [
    "We show the out-of-focus PSF dataset:"
   ]
  },
  {
   "metadata": {},
   "cell_type": "code",
   "source": [
    "b = gra.ShowDataset(Psf[1],  cmap ='magma')"
   ],
   "outputs": [],
   "execution_count": null
  },
  {
   "cell_type": "markdown",
   "metadata": {},
   "source": [
    "Now we set the SNR value for our synthetic dataset, and we normalize the PSFs:"
   ]
  },
  {
   "cell_type": "code",
   "metadata": {
    "tags": []
   },
   "source": [
    "N = 5\n",
    "Signal = 300  #with this value we set the SNR of our phantom ISM dataset\n",
    "\n",
    "for i in range(Nz):\n",
    "    Psf[i]/=Psf[i].sum()"
   ],
   "outputs": [],
   "execution_count": null
  },
  {
   "cell_type": "markdown",
   "metadata": {},
   "source": [
    "# Building the ISM dataset: forward model\n",
    "Now that we have the PSFs, we can apply the forward model.\n",
    "\n",
    "We can simulate the phantom ISM dataset by convolving the phantom ground truths with the respective PSFs and then corrupting the result with Poisson noise."
   ]
  },
  {
   "cell_type": "code",
   "metadata": {
    "tags": []
   },
   "source": [
    "#we convolve the raw strands with the PSFs to simulate image system acquisition blurring\n",
    "\n",
    "ground_truth = phTub * Signal\n",
    "Nx = phTub.shape[1]\n",
    "Ny = phTub.shape[2]\n",
    "blurred_phantom = np.empty([Nz, Nx, Ny, N**2])\n",
    "\n",
    "for i in range(N**2):\n",
    "    for j in range(Nz):\n",
    "        blurred_phantom[j, :, :, i] = convolve(ground_truth[j], Psf[j, :, :, i], mode='same')\n",
    "\n",
    "dataset_t = np.uint16(blurred_phantom.sum(axis = 0))  # converting to photon counts\n",
    "data_ISM_noise = np.random.poisson(dataset_t)         # affecting the data with Poisson noise\n",
    "\n",
    "\n",
    "fig = gra.ShowDataset(data_ISM_noise, cmap ='magma')"
   ],
   "outputs": [],
   "execution_count": null
  },
  {
   "cell_type": "markdown",
   "metadata": {},
   "source": [
    "# s$^2$ISM reconstruction\n",
    "Now we launch the reconstruction.  We set _rep_to_save = 'all'_  in order to save the reconstruction at each iteration.\n",
    "\n",
    "We can also ask the algorithm to give as output just the last iteration result (default behaviour), or to save just some of the produced estimations giving a tuple of number."
   ]
  },
  {
   "cell_type": "code",
   "metadata": {
    "tags": []
   },
   "source": [
    "grid = psf.GridParameters()\n",
    "grid.Nz = Nz\n",
    "grid.pxsizex = pxsizex\n",
    "grid.pxsizez = optimal_bkg_plane\n",
    "\n",
    "recon_ph, photon_counts, derivative, _ = s2.max_likelihood_reconstruction(data_ISM_noise, Psf, max_iter = 50, rep_to_save ='all')"
   ],
   "outputs": [],
   "execution_count": null
  },
  {
   "cell_type": "markdown",
   "metadata": {},
   "source": [
    "The output shape is (n_iter, nz, nx, ny).\n",
    "\n",
    "We show the result produced by the last iteration of the algorithm:"
   ]
  },
  {
   "cell_type": "code",
   "metadata": {
    "tags": []
   },
   "source": [
    "clabel = 'Intensity (arb.units)'\n",
    "fig = plt.figure(layout=\"constrained\")\n",
    "axd =fig.subplot_mosaic(\n",
    "    \"\"\"\n",
    "    AB\n",
    "    CD\n",
    "    \"\"\"\n",
    ")\n",
    "axd[\"A\"].set_title(r'in focus ground truth')\n",
    "gra.ShowImg(ground_truth[0], pxsizex*1e-3, cmap='magma', fig = fig, ax = axd[\"A\"], clabel =clabel)\n",
    "axd[\"B\"].set_title(r'1.4 AU LSM')\n",
    "gra.ShowImg(data_ISM_noise.sum(-1),pxsizex*1e-3, cmap='magma', fig = fig, ax = axd[\"B\"], clabel =clabel)\n",
    "axd[\"C\"].set_title(r's$^2$ISM reconstruction')\n",
    "gra.ShowImg(recon_ph[-1,0], pxsizex*1e-3, cmap='magma', fig = fig, ax = axd[\"C\"], clabel =clabel)\n",
    "axd[\"D\"].set_title(r'background rejected')\n",
    "gra.ShowImg(recon_ph[-1,1], pxsizex*1e-3, cmap='magma', fig = fig, ax = axd[\"D\"], clabel =clabel)"
   ],
   "outputs": [],
   "execution_count": null
  },
  {
   "cell_type": "markdown",
   "metadata": {},
   "source": [
    "The algorithm conserves the total amount of photons at each iteration:"
   ]
  },
  {
   "cell_type": "code",
   "metadata": {},
   "source": [
    "print(f'Reconstruction total photon counts = {recon_ph[-1].sum():.0f}')\n",
    "print(f'ISM data total photon counts = {data_ISM_noise.sum():.0f}')"
   ],
   "outputs": [],
   "execution_count": null
  },
  {
   "cell_type": "markdown",
   "metadata": {},
   "source": [
    " We can exploit this feature to analyze the photon exchange dynamics between the two planes at each iteration.\n",
    " \n",
    "The axial reassignment reaches a plateau after a few iterations:"
   ]
  },
  {
   "cell_type": "code",
   "metadata": {
    "tags": []
   },
   "source": [
    "plt.figure()\n",
    "plt.plot(photon_counts[0,:])\n",
    "plt.plot(photon_counts[1,:])\n",
    "plt.xlabel('iteration')\n",
    "plt.ylabel('counts')\n",
    "plt.title('photon counts')\n",
    "\n",
    "plt.figure()\n",
    "plt.plot(derivative[0,:])\n",
    "plt.plot(derivative[1,:])\n",
    "plt.xlabel('iteration')\n",
    "plt.title('photon counts derivative')"
   ],
   "outputs": [],
   "execution_count": null
  },
  {
   "cell_type": "markdown",
   "metadata": {},
   "source": [
    "# Evaluating the results\n",
    "With simulataed data, we can compare the reconstruction with the ground truth at every iteration."
   ]
  },
  {
   "cell_type": "code",
   "metadata": {
    "tags": []
   },
   "source": [
    "kullback_leibler = tools.kl_divergence(ground_truth, recon_ph)"
   ],
   "outputs": [],
   "execution_count": null
  },
  {
   "metadata": {},
   "cell_type": "markdown",
   "source": []
  },
  {
   "cell_type": "markdown",
   "metadata": {},
   "source": [
    "The algorithm is semi-convergent. The optimal reconstruction corresponds to the one at the iteration that minimize the Kullback-Leibler divergence."
   ]
  },
  {
   "cell_type": "code",
   "metadata": {
    "tags": []
   },
   "source": [
    "idx = np.argmin(kullback_leibler[1])\n",
    "\n",
    "print(f'Optimal iteration = {idx}')"
   ],
   "outputs": [],
   "execution_count": null
  },
  {
   "cell_type": "code",
   "metadata": {
    "tags": []
   },
   "source": [
    "plt.figure()\n",
    "plt.plot(kullback_leibler[1], label ='in focus')\n",
    "plt.plot(idx, kullback_leibler[1][idx], 'ro')\n",
    "plt.vlines(idx , 0 , kullback_leibler[1][idx], linestyles='dashed')\n",
    "plt.plot(kullback_leibler[0], label ='background')\n",
    "plt.legend()"
   ],
   "outputs": [],
   "execution_count": null
  },
  {
   "cell_type": "markdown",
   "metadata": {},
   "source": [
    "Here we plot the comparison between the result produced by the optimal and last iteration"
   ]
  },
  {
   "cell_type": "code",
   "metadata": {
    "tags": []
   },
   "source": [
    "clabel = 'Intensity(arb.units)'\n",
    "fig = plt.figure(layout=\"constrained\")\n",
    "axd =fig.subplot_mosaic(\n",
    "    \"\"\"\n",
    "    AB\n",
    "\n",
    "    \"\"\"\n",
    ")\n",
    "axd[\"A\"].set_title(f's$^2$ISM - iteration={recon_ph.shape[0]}')\n",
    "gra.ShowImg(recon_ph[-1,0], pxsizex*1e-3, cmap='magma', fig = fig, ax = axd[\"A\"], clabel =clabel)\n",
    "axd[\"B\"].set_title(f's$^2$ISM - iteration=argmin[kl div]={idx}')\n",
    "gra.ShowImg(recon_ph[idx,0],pxsizex*1e-3, cmap='magma', fig = fig, ax = axd[\"B\"], clabel =clabel)"
   ],
   "outputs": [],
   "execution_count": null
  }
 ],
 "metadata": {
  "kernelspec": {
   "display_name": "Python 3 (ipykernel)",
   "language": "python",
   "name": "python3"
  },
  "language_info": {
   "codemirror_mode": {
    "name": "ipython",
    "version": 3
   },
   "file_extension": ".py",
   "mimetype": "text/x-python",
   "name": "python",
   "nbconvert_exporter": "python",
   "pygments_lexer": "ipython3",
   "version": "3.10.11"
  }
 },
 "nbformat": 4,
 "nbformat_minor": 4
}
